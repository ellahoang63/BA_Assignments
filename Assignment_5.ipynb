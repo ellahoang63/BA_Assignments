{
  "nbformat": 4,
  "nbformat_minor": 0,
  "metadata": {
    "colab": {
      "name": "Assignment 5.ipynb",
      "provenance": []
    },
    "kernelspec": {
      "name": "python3",
      "display_name": "Python 3"
    },
    "language_info": {
      "name": "python"
    }
  },
  "cells": [
    {
      "cell_type": "markdown",
      "metadata": {
        "id": "Y1iRDkEoe3Gu"
      },
      "source": [
        "**QUESTION 1**\n",
        "\n",
        "---\n",
        "\n",
        "\n",
        "\n",
        "The collection datatypes in Python are:\n",
        "\n",
        "> List: the most general version of a sequence in Python. They are mutable, meaning the elements inside a list can be changed. List items are ordered, changeable, and allow duplicate values.\n",
        "\n",
        "> Tuple: similar to lists, however, tuples are immutable meaning they can not be changed after they are created. We use tuples to present things that shouldn't be changed, such as days of the week, or dates on a calendar.\n",
        "\n",
        "> Dictionary: used to store data values in key: value pairs. Dictionary items are ordered, changeable, do not allow duplicates and can be in any data type.\n",
        "\n",
        "> Set: used to store multiple items in a single variable. A collection which is both unordered and unindexed.\n",
        "\n",
        "\n",
        "\n",
        "\n"
      ]
    },
    {
      "cell_type": "code",
      "metadata": {
        "id": "Ii-SMzIK6Y7I"
      },
      "source": [
        "import pandas as pd"
      ],
      "execution_count": null,
      "outputs": []
    },
    {
      "cell_type": "code",
      "metadata": {
        "id": "tNglEfy5zll5"
      },
      "source": [
        "data_dict= {'name': ['Nancy', 'Andrew', 'Janet', 'Margeret', 'Steven'], 'monthly_salary':[5000, 4000, 6000, 3000, 2000], 'zip':[98122, 98401, 98033, 98052, 98051]}\n",
        "emp_df= pd.DataFrame(data_dict)"
      ],
      "execution_count": null,
      "outputs": []
    },
    {
      "cell_type": "code",
      "metadata": {
        "colab": {
          "base_uri": "https://localhost:8080/"
        },
        "id": "pJ0XIEAY6dvg",
        "outputId": "2613b0a9-f22f-41f2-8755-f3eb3115dbdf"
      },
      "source": [
        "print(emp_df)"
      ],
      "execution_count": null,
      "outputs": [
        {
          "output_type": "stream",
          "text": [
            "       name  monthly_salary    zip\n",
            "0     Nancy            5000  98122\n",
            "1    Andrew            4000  98401\n",
            "2     Janet            6000  98033\n",
            "3  Margeret            3000  98052\n",
            "4    Steven            2000  98051\n"
          ],
          "name": "stdout"
        }
      ]
    },
    {
      "cell_type": "markdown",
      "metadata": {
        "id": "LhPD7gl_PQZJ"
      },
      "source": [
        "**QUESTION 2**\n",
        "\n",
        "---\n",
        "\n"
      ]
    },
    {
      "cell_type": "code",
      "metadata": {
        "colab": {
          "base_uri": "https://localhost:8080/",
          "height": 204
        },
        "id": "8Gbih8edPBoN",
        "outputId": "5387212a-69a0-4592-b08c-e97cd9eaf0b7"
      },
      "source": [
        "emp_df.head()"
      ],
      "execution_count": null,
      "outputs": [
        {
          "output_type": "execute_result",
          "data": {
            "text/html": [
              "<div>\n",
              "<style scoped>\n",
              "    .dataframe tbody tr th:only-of-type {\n",
              "        vertical-align: middle;\n",
              "    }\n",
              "\n",
              "    .dataframe tbody tr th {\n",
              "        vertical-align: top;\n",
              "    }\n",
              "\n",
              "    .dataframe thead th {\n",
              "        text-align: right;\n",
              "    }\n",
              "</style>\n",
              "<table border=\"1\" class=\"dataframe\">\n",
              "  <thead>\n",
              "    <tr style=\"text-align: right;\">\n",
              "      <th></th>\n",
              "      <th>name</th>\n",
              "      <th>monthly_salary</th>\n",
              "      <th>zip</th>\n",
              "    </tr>\n",
              "  </thead>\n",
              "  <tbody>\n",
              "    <tr>\n",
              "      <th>0</th>\n",
              "      <td>Nancy</td>\n",
              "      <td>5000</td>\n",
              "      <td>98122</td>\n",
              "    </tr>\n",
              "    <tr>\n",
              "      <th>1</th>\n",
              "      <td>Andrew</td>\n",
              "      <td>4000</td>\n",
              "      <td>98401</td>\n",
              "    </tr>\n",
              "    <tr>\n",
              "      <th>2</th>\n",
              "      <td>Janet</td>\n",
              "      <td>6000</td>\n",
              "      <td>98033</td>\n",
              "    </tr>\n",
              "    <tr>\n",
              "      <th>3</th>\n",
              "      <td>Margeret</td>\n",
              "      <td>3000</td>\n",
              "      <td>98052</td>\n",
              "    </tr>\n",
              "    <tr>\n",
              "      <th>4</th>\n",
              "      <td>Steven</td>\n",
              "      <td>2000</td>\n",
              "      <td>98051</td>\n",
              "    </tr>\n",
              "  </tbody>\n",
              "</table>\n",
              "</div>"
            ],
            "text/plain": [
              "       name  monthly_salary    zip\n",
              "0     Nancy            5000  98122\n",
              "1    Andrew            4000  98401\n",
              "2     Janet            6000  98033\n",
              "3  Margeret            3000  98052\n",
              "4    Steven            2000  98051"
            ]
          },
          "metadata": {
            "tags": []
          },
          "execution_count": 27
        }
      ]
    },
    {
      "cell_type": "markdown",
      "metadata": {
        "id": "JZB1mC_OWV-n"
      },
      "source": [
        "**QUESTION 3**\n",
        "\n",
        "---\n",
        "\n"
      ]
    },
    {
      "cell_type": "code",
      "metadata": {
        "colab": {
          "base_uri": "https://localhost:8080/"
        },
        "id": "jZNKDSkPQadr",
        "outputId": "e4ed5a1d-2e55-4d6a-b995-e44e702b1133"
      },
      "source": [
        "print(emp_df.iloc[0,:])"
      ],
      "execution_count": null,
      "outputs": [
        {
          "output_type": "stream",
          "text": [
            "name              Nancy\n",
            "monthly_salary     5000\n",
            "zip               98122\n",
            "Name: 0, dtype: object\n"
          ],
          "name": "stdout"
        }
      ]
    },
    {
      "cell_type": "markdown",
      "metadata": {
        "id": "KZnjAhWkWTZn"
      },
      "source": [
        "**QUESTION 4**\n",
        "\n",
        "---\n",
        "\n"
      ]
    },
    {
      "cell_type": "code",
      "metadata": {
        "colab": {
          "base_uri": "https://localhost:8080/"
        },
        "id": "Xk6-lFddQks-",
        "outputId": "69268137-547b-4513-b48a-eee48faec4db"
      },
      "source": [
        "print(emp_df.iloc[4,:])"
      ],
      "execution_count": null,
      "outputs": [
        {
          "output_type": "stream",
          "text": [
            "name              Steven\n",
            "monthly_salary      2000\n",
            "zip                98051\n",
            "Name: 4, dtype: object\n"
          ],
          "name": "stdout"
        }
      ]
    },
    {
      "cell_type": "markdown",
      "metadata": {
        "id": "uLnFj3MTWMZb"
      },
      "source": [
        "**QUESTION 5**\n",
        "\n",
        "---\n",
        "\n"
      ]
    },
    {
      "cell_type": "code",
      "metadata": {
        "colab": {
          "base_uri": "https://localhost:8080/"
        },
        "id": "omrkpzG-QzCB",
        "outputId": "2c381d3f-4992-4ad5-efa0-fde39b436ae4"
      },
      "source": [
        "print('The shape of emp_df is:', emp_df.shape)\n",
        "print('The size of emp_df is:', emp_df.size)"
      ],
      "execution_count": null,
      "outputs": [
        {
          "output_type": "stream",
          "text": [
            "The shape of emp_df is: (5, 3)\n",
            "The size of emp_df is: 15\n"
          ],
          "name": "stdout"
        }
      ]
    },
    {
      "cell_type": "markdown",
      "metadata": {
        "id": "Q7qK_E0sWIsZ"
      },
      "source": [
        "**QUESTION 6**\n",
        "\n",
        "---\n",
        "\n"
      ]
    },
    {
      "cell_type": "code",
      "metadata": {
        "colab": {
          "base_uri": "https://localhost:8080/"
        },
        "id": "8EQTE3HNQ3YY",
        "outputId": "0167393b-0291-49b9-b218-d90f52341292"
      },
      "source": [
        "print('The average salary of all employees is: ',emp_df['monthly_salary'].mean(axis=0))"
      ],
      "execution_count": null,
      "outputs": [
        {
          "output_type": "stream",
          "text": [
            "The average salary of all employees is:  4000.0\n"
          ],
          "name": "stdout"
        }
      ]
    },
    {
      "cell_type": "markdown",
      "metadata": {
        "id": "dp3czi_QWEvD"
      },
      "source": [
        "**QUESTION 7**\n",
        "\n",
        "---\n",
        "\n"
      ]
    },
    {
      "cell_type": "code",
      "metadata": {
        "colab": {
          "base_uri": "https://localhost:8080/",
          "height": 204
        },
        "id": "cvU9PCgvWufG",
        "outputId": "849910a5-e994-446d-f57a-01adc6fe116b"
      },
      "source": [
        "emp_df.sort_values(by='name')"
      ],
      "execution_count": null,
      "outputs": [
        {
          "output_type": "execute_result",
          "data": {
            "text/html": [
              "<div>\n",
              "<style scoped>\n",
              "    .dataframe tbody tr th:only-of-type {\n",
              "        vertical-align: middle;\n",
              "    }\n",
              "\n",
              "    .dataframe tbody tr th {\n",
              "        vertical-align: top;\n",
              "    }\n",
              "\n",
              "    .dataframe thead th {\n",
              "        text-align: right;\n",
              "    }\n",
              "</style>\n",
              "<table border=\"1\" class=\"dataframe\">\n",
              "  <thead>\n",
              "    <tr style=\"text-align: right;\">\n",
              "      <th></th>\n",
              "      <th>name</th>\n",
              "      <th>monthly_salary</th>\n",
              "      <th>zip</th>\n",
              "    </tr>\n",
              "  </thead>\n",
              "  <tbody>\n",
              "    <tr>\n",
              "      <th>1</th>\n",
              "      <td>Andrew</td>\n",
              "      <td>4000</td>\n",
              "      <td>98401</td>\n",
              "    </tr>\n",
              "    <tr>\n",
              "      <th>2</th>\n",
              "      <td>Janet</td>\n",
              "      <td>6000</td>\n",
              "      <td>98033</td>\n",
              "    </tr>\n",
              "    <tr>\n",
              "      <th>3</th>\n",
              "      <td>Margeret</td>\n",
              "      <td>3000</td>\n",
              "      <td>98052</td>\n",
              "    </tr>\n",
              "    <tr>\n",
              "      <th>0</th>\n",
              "      <td>Nancy</td>\n",
              "      <td>5000</td>\n",
              "      <td>98122</td>\n",
              "    </tr>\n",
              "    <tr>\n",
              "      <th>4</th>\n",
              "      <td>Steven</td>\n",
              "      <td>2000</td>\n",
              "      <td>98051</td>\n",
              "    </tr>\n",
              "  </tbody>\n",
              "</table>\n",
              "</div>"
            ],
            "text/plain": [
              "       name  monthly_salary    zip\n",
              "1    Andrew            4000  98401\n",
              "2     Janet            6000  98033\n",
              "3  Margeret            3000  98052\n",
              "0     Nancy            5000  98122\n",
              "4    Steven            2000  98051"
            ]
          },
          "metadata": {
            "tags": []
          },
          "execution_count": 36
        }
      ]
    },
    {
      "cell_type": "markdown",
      "metadata": {
        "id": "hLAjAahmV84x"
      },
      "source": [
        "**QUESTION 8**\n",
        "\n",
        "---\n",
        "\n"
      ]
    },
    {
      "cell_type": "code",
      "metadata": {
        "colab": {
          "base_uri": "https://localhost:8080/"
        },
        "id": "_Aq9JHgEVkOZ",
        "outputId": "c42f99ae-5321-4d09-87f5-bda6bffdf259"
      },
      "source": [
        "temp=emp_df[emp_df['zip']==98033]"
      ],
      "execution_count": null,
      "outputs": [
        {
          "output_type": "stream",
          "text": [
            "    name  monthly_salary    zip\n",
            "2  Janet            6000  98033\n"
          ],
          "name": "stdout"
        }
      ]
    },
    {
      "cell_type": "code",
      "metadata": {
        "colab": {
          "base_uri": "https://localhost:8080/",
          "height": 80
        },
        "id": "uSlQ3bPdVwuK",
        "outputId": "6a83728a-452d-42a7-ddfb-047a98ba855e"
      },
      "source": [
        "temp"
      ],
      "execution_count": null,
      "outputs": [
        {
          "output_type": "execute_result",
          "data": {
            "text/html": [
              "<div>\n",
              "<style scoped>\n",
              "    .dataframe tbody tr th:only-of-type {\n",
              "        vertical-align: middle;\n",
              "    }\n",
              "\n",
              "    .dataframe tbody tr th {\n",
              "        vertical-align: top;\n",
              "    }\n",
              "\n",
              "    .dataframe thead th {\n",
              "        text-align: right;\n",
              "    }\n",
              "</style>\n",
              "<table border=\"1\" class=\"dataframe\">\n",
              "  <thead>\n",
              "    <tr style=\"text-align: right;\">\n",
              "      <th></th>\n",
              "      <th>name</th>\n",
              "      <th>monthly_salary</th>\n",
              "      <th>zip</th>\n",
              "    </tr>\n",
              "  </thead>\n",
              "  <tbody>\n",
              "    <tr>\n",
              "      <th>2</th>\n",
              "      <td>Janet</td>\n",
              "      <td>6000</td>\n",
              "      <td>98033</td>\n",
              "    </tr>\n",
              "  </tbody>\n",
              "</table>\n",
              "</div>"
            ],
            "text/plain": [
              "    name  monthly_salary    zip\n",
              "2  Janet            6000  98033"
            ]
          },
          "metadata": {
            "tags": []
          },
          "execution_count": 29
        }
      ]
    },
    {
      "cell_type": "markdown",
      "metadata": {
        "id": "qwgY-K5SYeBa"
      },
      "source": [
        "**QUESTION 9**\n",
        "\n",
        "---\n",
        "\n"
      ]
    },
    {
      "cell_type": "code",
      "metadata": {
        "id": "W5AuEB92Yi91"
      },
      "source": [
        "emp_df[\"annual_salary\"] = emp_df[\"monthly_salary\"] * 12"
      ],
      "execution_count": null,
      "outputs": []
    },
    {
      "cell_type": "code",
      "metadata": {
        "colab": {
          "base_uri": "https://localhost:8080/",
          "height": 204
        },
        "id": "0WrXfRdJaHGV",
        "outputId": "d744b1e4-4814-4062-eaa0-0f81a1dd3218"
      },
      "source": [
        "emp_df.head()"
      ],
      "execution_count": null,
      "outputs": [
        {
          "output_type": "execute_result",
          "data": {
            "text/html": [
              "<div>\n",
              "<style scoped>\n",
              "    .dataframe tbody tr th:only-of-type {\n",
              "        vertical-align: middle;\n",
              "    }\n",
              "\n",
              "    .dataframe tbody tr th {\n",
              "        vertical-align: top;\n",
              "    }\n",
              "\n",
              "    .dataframe thead th {\n",
              "        text-align: right;\n",
              "    }\n",
              "</style>\n",
              "<table border=\"1\" class=\"dataframe\">\n",
              "  <thead>\n",
              "    <tr style=\"text-align: right;\">\n",
              "      <th></th>\n",
              "      <th>name</th>\n",
              "      <th>monthly_salary</th>\n",
              "      <th>zip</th>\n",
              "      <th>annual_salary</th>\n",
              "    </tr>\n",
              "  </thead>\n",
              "  <tbody>\n",
              "    <tr>\n",
              "      <th>0</th>\n",
              "      <td>Nancy</td>\n",
              "      <td>5000</td>\n",
              "      <td>98122</td>\n",
              "      <td>60000</td>\n",
              "    </tr>\n",
              "    <tr>\n",
              "      <th>1</th>\n",
              "      <td>Andrew</td>\n",
              "      <td>4000</td>\n",
              "      <td>98401</td>\n",
              "      <td>48000</td>\n",
              "    </tr>\n",
              "    <tr>\n",
              "      <th>2</th>\n",
              "      <td>Janet</td>\n",
              "      <td>6000</td>\n",
              "      <td>98033</td>\n",
              "      <td>72000</td>\n",
              "    </tr>\n",
              "    <tr>\n",
              "      <th>3</th>\n",
              "      <td>Margeret</td>\n",
              "      <td>3000</td>\n",
              "      <td>98052</td>\n",
              "      <td>36000</td>\n",
              "    </tr>\n",
              "    <tr>\n",
              "      <th>4</th>\n",
              "      <td>Steven</td>\n",
              "      <td>2000</td>\n",
              "      <td>98051</td>\n",
              "      <td>24000</td>\n",
              "    </tr>\n",
              "  </tbody>\n",
              "</table>\n",
              "</div>"
            ],
            "text/plain": [
              "       name  monthly_salary    zip  annual_salary\n",
              "0     Nancy            5000  98122          60000\n",
              "1    Andrew            4000  98401          48000\n",
              "2     Janet            6000  98033          72000\n",
              "3  Margeret            3000  98052          36000\n",
              "4    Steven            2000  98051          24000"
            ]
          },
          "metadata": {
            "tags": []
          },
          "execution_count": 39
        }
      ]
    },
    {
      "cell_type": "markdown",
      "metadata": {
        "id": "cQew4O08amRF"
      },
      "source": [
        "**QUESTION 10**\n",
        "\n",
        "---\n",
        "\n"
      ]
    },
    {
      "cell_type": "code",
      "metadata": {
        "id": "1RdfVDa7ao39"
      },
      "source": [
        "emp_df.rename(columns={'name':'firstname'},inplace=True)"
      ],
      "execution_count": null,
      "outputs": []
    },
    {
      "cell_type": "code",
      "metadata": {
        "colab": {
          "base_uri": "https://localhost:8080/",
          "height": 204
        },
        "id": "wpU9qB3Bdj42",
        "outputId": "f946bd5b-55f1-4176-c8c1-5ce3319a524f"
      },
      "source": [
        "emp_df"
      ],
      "execution_count": null,
      "outputs": [
        {
          "output_type": "execute_result",
          "data": {
            "text/html": [
              "<div>\n",
              "<style scoped>\n",
              "    .dataframe tbody tr th:only-of-type {\n",
              "        vertical-align: middle;\n",
              "    }\n",
              "\n",
              "    .dataframe tbody tr th {\n",
              "        vertical-align: top;\n",
              "    }\n",
              "\n",
              "    .dataframe thead th {\n",
              "        text-align: right;\n",
              "    }\n",
              "</style>\n",
              "<table border=\"1\" class=\"dataframe\">\n",
              "  <thead>\n",
              "    <tr style=\"text-align: right;\">\n",
              "      <th></th>\n",
              "      <th>firstname</th>\n",
              "      <th>monthly_salary</th>\n",
              "      <th>zip</th>\n",
              "      <th>annual_salary</th>\n",
              "    </tr>\n",
              "  </thead>\n",
              "  <tbody>\n",
              "    <tr>\n",
              "      <th>0</th>\n",
              "      <td>Nancy</td>\n",
              "      <td>5000</td>\n",
              "      <td>98122</td>\n",
              "      <td>60000</td>\n",
              "    </tr>\n",
              "    <tr>\n",
              "      <th>1</th>\n",
              "      <td>Andrew</td>\n",
              "      <td>4000</td>\n",
              "      <td>98401</td>\n",
              "      <td>48000</td>\n",
              "    </tr>\n",
              "    <tr>\n",
              "      <th>2</th>\n",
              "      <td>Janet</td>\n",
              "      <td>6000</td>\n",
              "      <td>98033</td>\n",
              "      <td>72000</td>\n",
              "    </tr>\n",
              "    <tr>\n",
              "      <th>3</th>\n",
              "      <td>Margeret</td>\n",
              "      <td>3000</td>\n",
              "      <td>98052</td>\n",
              "      <td>36000</td>\n",
              "    </tr>\n",
              "    <tr>\n",
              "      <th>4</th>\n",
              "      <td>Steven</td>\n",
              "      <td>2000</td>\n",
              "      <td>98051</td>\n",
              "      <td>24000</td>\n",
              "    </tr>\n",
              "  </tbody>\n",
              "</table>\n",
              "</div>"
            ],
            "text/plain": [
              "  firstname  monthly_salary    zip  annual_salary\n",
              "0     Nancy            5000  98122          60000\n",
              "1    Andrew            4000  98401          48000\n",
              "2     Janet            6000  98033          72000\n",
              "3  Margeret            3000  98052          36000\n",
              "4    Steven            2000  98051          24000"
            ]
          },
          "metadata": {
            "tags": []
          },
          "execution_count": 51
        }
      ]
    },
    {
      "cell_type": "markdown",
      "metadata": {
        "id": "XBwbvuzGbTEH"
      },
      "source": [
        "**QUESTION 11**\n",
        "\n",
        "---\n",
        "\n"
      ]
    },
    {
      "cell_type": "code",
      "metadata": {
        "id": "bpxe7SWibd6c"
      },
      "source": [
        "emp_info=emp_df[['firstname','annual_salary','zip']].copy()"
      ],
      "execution_count": null,
      "outputs": []
    },
    {
      "cell_type": "code",
      "metadata": {
        "colab": {
          "base_uri": "https://localhost:8080/",
          "height": 204
        },
        "id": "jzcy9Aa4dU_9",
        "outputId": "06a8e3d1-b43a-4dcc-e579-61182ad319a1"
      },
      "source": [
        "emp_info"
      ],
      "execution_count": null,
      "outputs": [
        {
          "output_type": "execute_result",
          "data": {
            "text/html": [
              "<div>\n",
              "<style scoped>\n",
              "    .dataframe tbody tr th:only-of-type {\n",
              "        vertical-align: middle;\n",
              "    }\n",
              "\n",
              "    .dataframe tbody tr th {\n",
              "        vertical-align: top;\n",
              "    }\n",
              "\n",
              "    .dataframe thead th {\n",
              "        text-align: right;\n",
              "    }\n",
              "</style>\n",
              "<table border=\"1\" class=\"dataframe\">\n",
              "  <thead>\n",
              "    <tr style=\"text-align: right;\">\n",
              "      <th></th>\n",
              "      <th>firstname</th>\n",
              "      <th>annual_salary</th>\n",
              "      <th>zip</th>\n",
              "    </tr>\n",
              "  </thead>\n",
              "  <tbody>\n",
              "    <tr>\n",
              "      <th>0</th>\n",
              "      <td>Nancy</td>\n",
              "      <td>60000</td>\n",
              "      <td>98122</td>\n",
              "    </tr>\n",
              "    <tr>\n",
              "      <th>1</th>\n",
              "      <td>Andrew</td>\n",
              "      <td>48000</td>\n",
              "      <td>98401</td>\n",
              "    </tr>\n",
              "    <tr>\n",
              "      <th>2</th>\n",
              "      <td>Janet</td>\n",
              "      <td>72000</td>\n",
              "      <td>98033</td>\n",
              "    </tr>\n",
              "    <tr>\n",
              "      <th>3</th>\n",
              "      <td>Margeret</td>\n",
              "      <td>36000</td>\n",
              "      <td>98052</td>\n",
              "    </tr>\n",
              "    <tr>\n",
              "      <th>4</th>\n",
              "      <td>Steven</td>\n",
              "      <td>24000</td>\n",
              "      <td>98051</td>\n",
              "    </tr>\n",
              "  </tbody>\n",
              "</table>\n",
              "</div>"
            ],
            "text/plain": [
              "  firstname  annual_salary    zip\n",
              "0     Nancy          60000  98122\n",
              "1    Andrew          48000  98401\n",
              "2     Janet          72000  98033\n",
              "3  Margeret          36000  98052\n",
              "4    Steven          24000  98051"
            ]
          },
          "metadata": {
            "tags": []
          },
          "execution_count": 50
        }
      ]
    },
    {
      "cell_type": "markdown",
      "metadata": {
        "id": "NNzzhLCFdsmh"
      },
      "source": [
        "**QUESTION 12**\n",
        "\n",
        "---\n",
        "\n"
      ]
    },
    {
      "cell_type": "code",
      "metadata": {
        "colab": {
          "base_uri": "https://localhost:8080/"
        },
        "id": "1pLkAHLJdwK4",
        "outputId": "593dd3d3-e9f4-498a-a574-8bf1570d8d1e"
      },
      "source": [
        "print(emp_info['firstname'])"
      ],
      "execution_count": null,
      "outputs": [
        {
          "output_type": "stream",
          "text": [
            "0       Nancy\n",
            "1      Andrew\n",
            "2       Janet\n",
            "3    Margeret\n",
            "4      Steven\n",
            "Name: firstname, dtype: object\n"
          ],
          "name": "stdout"
        }
      ]
    },
    {
      "cell_type": "markdown",
      "metadata": {
        "id": "RxUJSn2geFbj"
      },
      "source": [
        "**QUESTION 13**\n",
        "\n",
        "---\n",
        "\n"
      ]
    },
    {
      "cell_type": "code",
      "metadata": {
        "colab": {
          "base_uri": "https://localhost:8080/",
          "height": 204
        },
        "id": "zbUUIXS4eJm6",
        "outputId": "a4eccda5-89ea-4fcd-81a3-85ed6b01ea44"
      },
      "source": [
        "emp_info.drop(columns=['annual_salary'])"
      ],
      "execution_count": null,
      "outputs": [
        {
          "output_type": "execute_result",
          "data": {
            "text/html": [
              "<div>\n",
              "<style scoped>\n",
              "    .dataframe tbody tr th:only-of-type {\n",
              "        vertical-align: middle;\n",
              "    }\n",
              "\n",
              "    .dataframe tbody tr th {\n",
              "        vertical-align: top;\n",
              "    }\n",
              "\n",
              "    .dataframe thead th {\n",
              "        text-align: right;\n",
              "    }\n",
              "</style>\n",
              "<table border=\"1\" class=\"dataframe\">\n",
              "  <thead>\n",
              "    <tr style=\"text-align: right;\">\n",
              "      <th></th>\n",
              "      <th>firstname</th>\n",
              "      <th>zip</th>\n",
              "    </tr>\n",
              "  </thead>\n",
              "  <tbody>\n",
              "    <tr>\n",
              "      <th>0</th>\n",
              "      <td>Nancy</td>\n",
              "      <td>98122</td>\n",
              "    </tr>\n",
              "    <tr>\n",
              "      <th>1</th>\n",
              "      <td>Andrew</td>\n",
              "      <td>98401</td>\n",
              "    </tr>\n",
              "    <tr>\n",
              "      <th>2</th>\n",
              "      <td>Janet</td>\n",
              "      <td>98033</td>\n",
              "    </tr>\n",
              "    <tr>\n",
              "      <th>3</th>\n",
              "      <td>Margeret</td>\n",
              "      <td>98052</td>\n",
              "    </tr>\n",
              "    <tr>\n",
              "      <th>4</th>\n",
              "      <td>Steven</td>\n",
              "      <td>98051</td>\n",
              "    </tr>\n",
              "  </tbody>\n",
              "</table>\n",
              "</div>"
            ],
            "text/plain": [
              "  firstname    zip\n",
              "0     Nancy  98122\n",
              "1    Andrew  98401\n",
              "2     Janet  98033\n",
              "3  Margeret  98052\n",
              "4    Steven  98051"
            ]
          },
          "metadata": {
            "tags": []
          },
          "execution_count": 54
        }
      ]
    }
  ]
}